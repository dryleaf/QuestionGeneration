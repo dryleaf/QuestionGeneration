{
 "metadata": {
  "name": "",
  "signature": "sha256:4515ba977ab278327ac73d7d871230783cc92a81fa22057036bcb2750e3816c8"
 },
 "nbformat": 3,
 "nbformat_minor": 0,
 "worksheets": [
  {
   "cells": [
    {
     "cell_type": "code",
     "collapsed": false,
     "input": [
      "import numpy as np"
     ],
     "language": "python",
     "metadata": {},
     "outputs": [],
     "prompt_number": 10
    },
    {
     "cell_type": "code",
     "collapsed": false,
     "input": [
      "import pylab"
     ],
     "language": "python",
     "metadata": {},
     "outputs": [],
     "prompt_number": 11
    },
    {
     "cell_type": "code",
     "collapsed": false,
     "input": [
      "x1 = np.linspace(0, 10, 20)\n",
      "y1 = np.sin(x1)\n",
      "\n",
      "x2 = np.linspace(0, 10, 1000)\n",
      "y2 = np.sin(x2)"
     ],
     "language": "python",
     "metadata": {},
     "outputs": [],
     "prompt_number": 12
    },
    {
     "cell_type": "code",
     "collapsed": false,
     "input": [
      "pylab.plot(x1, y1, 'bo', label='sampled')\n",
      "pylab.plot(x2, y2, ':k', label='continuous')\n",
      "pylab.legend()\n",
      "\n",
      "pylab.ylim(-1.5, 2.0)"
     ],
     "language": "python",
     "metadata": {},
     "outputs": [
      {
       "metadata": {},
       "output_type": "pyout",
       "prompt_number": 13,
       "text": [
        "(-1.5, 2.0)"
       ]
      }
     ],
     "prompt_number": 13
    },
    {
     "cell_type": "code",
     "collapsed": false,
     "input": [],
     "language": "python",
     "metadata": {},
     "outputs": []
    }
   ],
   "metadata": {}
  }
 ]
}